{
  "nbformat": 4,
  "nbformat_minor": 0,
  "metadata": {
    "colab": {
      "name": "gmaps_nearby_places.ipynb",
      "provenance": [],
      "collapsed_sections": [],
      "mount_file_id": "1T7SuR7kn7392SAd70484yoqRd-PbtMa4",
      "authorship_tag": "ABX9TyPFBWDPi5TbJER5izXvJRWo",
      "include_colab_link": true
    },
    "kernelspec": {
      "name": "python3",
      "display_name": "Python 3"
    },
    "language_info": {
      "name": "python"
    }
  },
  "cells": [
    {
      "cell_type": "markdown",
      "metadata": {
        "id": "view-in-github",
        "colab_type": "text"
      },
      "source": [
        "<a href=\"https://colab.research.google.com/github/efratrvd/tel-aviv-rent-analysis/blob/main/gmaps_nearby_places.ipynb\" target=\"_parent\"><img src=\"https://colab.research.google.com/assets/colab-badge.svg\" alt=\"Open In Colab\"/></a>"
      ]
    },
    {
      "cell_type": "code",
      "source": [
        "!pip install prettyprint\n",
        "!pip install googlemaps"
      ],
      "metadata": {
        "id": "x3dm6efdX1CN"
      },
      "execution_count": null,
      "outputs": []
    },
    {
      "cell_type": "code",
      "execution_count": null,
      "metadata": {
        "id": "AUyQS4CzxCi7"
      },
      "outputs": [],
      "source": [
        "import pandas as pd\n",
        "import googlemaps\n",
        "import pprint\n",
        "import json\n",
        "import time\n",
        "import os\n"
      ]
    },
    {
      "cell_type": "markdown",
      "source": [
        "Get near_by place data from google for all locations"
      ],
      "metadata": {
        "id": "cYTNQS6Jxopq"
      }
    },
    {
      "cell_type": "code",
      "source": [
        "def get_near_by_data_for_location(row):\n",
        "  ID, lati, longi = row\n",
        "  prop_name = ID \n",
        "  result_dir = \"/content/drive/MyDrive/BGU/BIGDATA/\"\n",
        "  result_list = []\n",
        "  next_page_token = None\n",
        "  for i in range(1):\n",
        "    if i == 0:\n",
        "      place_result = gmaps.places_nearby(location='{},{}'.format(lati, longi), radius=300, open_now = False)\n",
        "    else:\n",
        "      place_result = gmaps.places_nearby(page_token=next_page_token)\n",
        "    next_page_token = place_result.get('next_page_token', None)\n",
        "    results = place_result.get('results', [])\n",
        "    result_list.extend(results)\n",
        "    time.sleep(3)\n",
        "    if next_page_token is None:\n",
        "      break\n",
        "  \n",
        "  with open(result_dir+prop_name+'.json', 'w', encoding='utf-8') as f:\n",
        "      json.dump(result_list, f, ensure_ascii=False, indent=4)"
      ],
      "metadata": {
        "id": "bEjq_RNocABf"
      },
      "execution_count": null,
      "outputs": []
    },
    {
      "cell_type": "code",
      "source": [
        "#  api key here\n",
        "gmaps = googlemaps.Client(key = api)\n",
        "\n",
        "all_data_df = pd.read_csv(\"/content/drive/MyDrive/ta-rent/properties3.csv\", usecols=['_id','address.street', 'squareMeters','rentPrice','areas','floor','coords.lat','coords.lng'])\n",
        "df = all_data_df.dropna(subset=['address.street', 'squareMeters','rentPrice','areas','floor','coords.lat','coords.lng'])"
      ],
      "metadata": {
        "id": "Yg7OLCIkxMMf"
      },
      "execution_count": null,
      "outputs": []
    },
    {
      "cell_type": "code",
      "source": [
        "df[['_id', 'coords.lat','coords.lng']].apply(get_near_by_data_for_location, axis=1)"
      ],
      "metadata": {
        "id": "gZx_SCfJ-6IM"
      },
      "execution_count": null,
      "outputs": []
    },
    {
      "cell_type": "markdown",
      "source": [
        "Create dataset of near by places"
      ],
      "metadata": {
        "id": "_XhfHRiYxyhz"
      }
    },
    {
      "cell_type": "code",
      "source": [
        "result_dir = \"/content/drive/MyDrive/BGU/BIGDATA/\"\n",
        "all_prop_data = []\n",
        "for dir, folders, files in os.walk(result_dir):\n",
        "  for file in files:\n",
        "    prop_data = {'_id': str(file).replace('.json',''), 'places_name': [], 'places_rating': [], 'places_types': [], 'places_num_rating': []}\n",
        "    with open(os.path.join(dir,file)) as j:\n",
        "      gmap_json = json.loads(j.read())\n",
        "      for i, item in enumerate(gmap_json):\n",
        "        if i == 0:\n",
        "          continue\n",
        "        prop_data['places_name'].append(item['name'])\n",
        "        prop_data['places_rating'].append(item.get('rating', None))\n",
        "        prop_data['places_types'].append(item['types'])\n",
        "        prop_data['places_num_rating'].append(item.get('user_ratings_total', None))\n",
        "      all_prop_data.append(prop_data)\n",
        "property_nearby_places_df = pd.DataFrame(all_prop_data)"
      ],
      "metadata": {
        "id": "n3KZKG4tnq9q"
      },
      "execution_count": null,
      "outputs": []
    },
    {
      "cell_type": "code",
      "source": [
        "property_nearby_places_df.to_csv(\"/content/drive/MyDrive/BGU/property_nearby_places_df.csv\")"
      ],
      "metadata": {
        "id": "PnNJqQfYtnWR"
      },
      "execution_count": null,
      "outputs": []
    }
  ]
}